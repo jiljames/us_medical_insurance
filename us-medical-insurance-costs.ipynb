{
 "cells": [
  {
   "cell_type": "markdown",
   "metadata": {},
   "source": [
    "# U.S. Medical Insurance Costs"
   ]
  },
  {
   "cell_type": "code",
   "execution_count": 9,
   "metadata": {},
   "outputs": [],
   "source": [
    "import numpy as np\n",
    "import pandas as pd\n",
    "df = pd.read_csv(\"insurance.csv\")"
   ]
  },
  {
   "cell_type": "code",
   "execution_count": 10,
   "metadata": {},
   "outputs": [
    {
     "name": "stdout",
     "output_type": "stream",
     "text": [
      "   age     sex     bmi  children smoker     region      charges\n",
      "0   19  female  27.900         0    yes  southwest  16884.92400\n",
      "1   18    male  33.770         1     no  southeast   1725.55230\n",
      "2   28    male  33.000         3     no  southeast   4449.46200\n",
      "3   33    male  22.705         0     no  northwest  21984.47061\n",
      "4   32    male  28.880         0     no  northwest   3866.85520\n"
     ]
    }
   ],
   "source": [
    "#examine the dataset\n",
    "print(df.head())"
   ]
  },
  {
   "cell_type": "markdown",
   "metadata": {},
   "source": [
    "In this project, I'll be answering some research questions I have about this dataset. To begin, what is the average age of someone in the dataset?"
   ]
  },
  {
   "cell_type": "code",
   "execution_count": 13,
   "metadata": {},
   "outputs": [
    {
     "name": "stdout",
     "output_type": "stream",
     "text": [
      "39.20702541106129\n"
     ]
    }
   ],
   "source": [
    "avg_age = np.mean(df[\"age\"])\n",
    "print(avg_age)"
   ]
  },
  {
   "cell_type": "markdown",
   "metadata": {},
   "source": [
    "What is the average age of someone who smokes in the dataset?"
   ]
  },
  {
   "cell_type": "code",
   "execution_count": 30,
   "metadata": {},
   "outputs": [
    {
     "name": "stdout",
     "output_type": "stream",
     "text": [
      "38.51459854014598\n"
     ]
    }
   ],
   "source": [
    "smokers = df.loc[df[\"smoker\"]==\"yes\"]\n",
    "avg_smoker_age = np.mean(smokers[\"age\"])\n",
    "print(avg_smoker_age)"
   ]
  },
  {
   "cell_type": "markdown",
   "metadata": {},
   "source": [
    "Does BMI change with age? The youngest age in the dataset is 18. The oldest age in the dataset is 65.  Let's look at bmi for those in the age ranges: under 40 and above 40"
   ]
  },
  {
   "cell_type": "code",
   "execution_count": 49,
   "metadata": {},
   "outputs": [
    {
     "name": "stdout",
     "output_type": "stream",
     "text": [
      "Average bmi < 40:  30.074940652818988\n",
      "Average bmi > 40:  31.26071536144578\n"
     ]
    }
   ],
   "source": [
    "under_40 = df.loc[df[\"age\"]<40]\n",
    "avg_bmi_under_40 = np.mean(under_40[\"bmi\"])\n",
    "print(\"Average bmi < 40: \", avg_bmi_under_40)\n",
    "\n",
    "over_40 = df.loc[df[\"age\"]>=40]\n",
    "avg_bmi_over_40 = np.mean(over_40[\"bmi\"])\n",
    "print(\"Average bmi > 40: \", avg_bmi_over_40)\n"
   ]
  },
  {
   "cell_type": "markdown",
   "metadata": {},
   "source": [
    "What is the average age for people with children vs people without children?"
   ]
  },
  {
   "cell_type": "code",
   "execution_count": 52,
   "metadata": {},
   "outputs": [
    {
     "name": "stdout",
     "output_type": "stream",
     "text": [
      "The average age of someone with kids is 39.78010471204188\n",
      "The average age of someone without children is 38.444250871080136\n"
     ]
    }
   ],
   "source": [
    "have_children = df.loc[df[\"children\"]>0]\n",
    "no_children = df.loc[df[\"children\"]==0]\n",
    "avg_age_have_children = np.mean(have_children[\"age\"])\n",
    "avg_age_no_children = np.mean(no_children[\"age\"])\n",
    "print(\"The average age of someone with kids is \" + str(avg_age_have_children))\n",
    "print(\"The average age of someone without children is \"+ str(avg_age_no_children))"
   ]
  },
  {
   "cell_type": "markdown",
   "metadata": {},
   "source": [
    "What are the counts of people purchasing insurance by region?"
   ]
  },
  {
   "cell_type": "code",
   "execution_count": 58,
   "metadata": {},
   "outputs": [
    {
     "data": {
      "text/plain": [
       "region\n",
       "northeast    324\n",
       "northwest    325\n",
       "southeast    364\n",
       "southwest    325\n",
       "Name: age, dtype: int64"
      ]
     },
     "execution_count": 58,
     "metadata": {},
     "output_type": "execute_result"
    }
   ],
   "source": [
    "df.groupby(\"region\").count()[\"age\"]"
   ]
  },
  {
   "cell_type": "markdown",
   "metadata": {},
   "source": [
    "How does being a smoker influence the price of insurance?"
   ]
  },
  {
   "cell_type": "code",
   "execution_count": 61,
   "metadata": {},
   "outputs": [
    {
     "data": {
      "text/plain": [
       "smoker\n",
       "no      8434.268298\n",
       "yes    32050.231832\n",
       "Name: charges, dtype: float64"
      ]
     },
     "execution_count": 61,
     "metadata": {},
     "output_type": "execute_result"
    }
   ],
   "source": [
    "df.groupby(\"smoker\").mean(numeric_only = True)[\"charges\"]"
   ]
  },
  {
   "cell_type": "markdown",
   "metadata": {},
   "source": [
    "Underweight: BMI is less than 18.5. Normal weight: BMI is 18.5 to 24.9. Overweight: BMI is 25 to 29.9. Obese: BMI is 30 or more. How does BMI incluence charges?"
   ]
  },
  {
   "cell_type": "code",
   "execution_count": 68,
   "metadata": {},
   "outputs": [
    {
     "name": "stdout",
     "output_type": "stream",
     "text": [
      "Avg price underweight:  8852.200585\n",
      "Avg price normal:  10409.337708977777\n",
      "Avg price overweight:  10987.509891318654\n",
      "Avg price obese:  15560.92632126241\n"
     ]
    }
   ],
   "source": [
    "underweight = df.loc[df[\"bmi\"]<18.5]\n",
    "normal = df.loc[(df[\"bmi\"]>=18.5)&(df[\"bmi\"]<25)]\n",
    "overweight = df.loc[(df[\"bmi\"]>=25)&(df[\"bmi\"]<30)]\n",
    "obese = df.loc[df[\"bmi\"]>30]\n",
    "print(\"Avg price underweight: \", np.mean(underweight[\"charges\"]))\n",
    "print(\"Avg price normal: \", np.mean(normal[\"charges\"]))\n",
    "print(\"Avg price overweight: \", np.mean(overweight[\"charges\"]))\n",
    "print(\"Avg price obese: \", np.mean(obese[\"charges\"]))"
   ]
  },
  {
   "cell_type": "code",
   "execution_count": null,
   "metadata": {},
   "outputs": [],
   "source": []
  }
 ],
 "metadata": {
  "kernelspec": {
   "display_name": "Python 3 (ipykernel)",
   "language": "python",
   "name": "python3"
  },
  "language_info": {
   "codemirror_mode": {
    "name": "ipython",
    "version": 3
   },
   "file_extension": ".py",
   "mimetype": "text/x-python",
   "name": "python",
   "nbconvert_exporter": "python",
   "pygments_lexer": "ipython3",
   "version": "3.10.9"
  }
 },
 "nbformat": 4,
 "nbformat_minor": 4
}
